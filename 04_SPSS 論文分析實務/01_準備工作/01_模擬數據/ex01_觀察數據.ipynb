{
 "cells": [
  {
   "cell_type": "code",
   "execution_count": 1,
   "metadata": {},
   "outputs": [
    {
     "ename": "PyreadstatError",
     "evalue": "File v01_01_匯入完成.sav does not exist!",
     "output_type": "error",
     "traceback": [
      "\u001b[0;31m---------------------------------------------------------------------------\u001b[0m",
      "\u001b[0;31mPyreadstatError\u001b[0m                           Traceback (most recent call last)",
      "Cell \u001b[0;32mIn[1], line 7\u001b[0m\n\u001b[1;32m      5\u001b[0m \u001b[38;5;66;03m# 讀取原始數據\u001b[39;00m\n\u001b[1;32m      6\u001b[0m file_path \u001b[38;5;241m=\u001b[39m \u001b[38;5;124m'\u001b[39m\u001b[38;5;124mv01_01_匯入完成.sav\u001b[39m\u001b[38;5;124m'\u001b[39m\n\u001b[0;32m----> 7\u001b[0m data, meta \u001b[38;5;241m=\u001b[39m \u001b[43mpyreadstat\u001b[49m\u001b[38;5;241;43m.\u001b[39;49m\u001b[43mread_sav\u001b[49m\u001b[43m(\u001b[49m\u001b[43mfile_path\u001b[49m\u001b[43m)\u001b[49m\n\u001b[1;32m      9\u001b[0m \u001b[38;5;66;03m# 顯示數據的前幾行以了解其結構\u001b[39;00m\n\u001b[1;32m     10\u001b[0m \u001b[38;5;28mprint\u001b[39m(data\u001b[38;5;241m.\u001b[39mhead())\n",
      "File \u001b[0;32mpyreadstat/pyreadstat.pyx:389\u001b[0m, in \u001b[0;36mpyreadstat.pyreadstat.read_sav\u001b[0;34m()\u001b[0m\n",
      "File \u001b[0;32mpyreadstat/_readstat_parser.pyx:1075\u001b[0m, in \u001b[0;36mpyreadstat._readstat_parser.run_conversion\u001b[0;34m()\u001b[0m\n",
      "\u001b[0;31mPyreadstatError\u001b[0m: File v01_01_匯入完成.sav does not exist!"
     ]
    }
   ],
   "source": [
    "# 導入必要庫\n",
    "import pandas as pd\n",
    "import pyreadstat\n",
    "\n",
    "# 讀取原始數據\n",
    "file_path = 'v01_01_匯入完成.sav'\n",
    "data, meta = pyreadstat.read_sav(file_path)\n",
    "\n",
    "# 顯示數據的前幾行以了解其結構\n",
    "print(data.head())\n",
    "print(data.columns)"
   ]
  }
 ],
 "metadata": {
  "kernelspec": {
   "display_name": "envLCG",
   "language": "python",
   "name": "python3"
  },
  "language_info": {
   "codemirror_mode": {
    "name": "ipython",
    "version": 3
   },
   "file_extension": ".py",
   "mimetype": "text/x-python",
   "name": "python",
   "nbconvert_exporter": "python",
   "pygments_lexer": "ipython3",
   "version": "3.10.11"
  }
 },
 "nbformat": 4,
 "nbformat_minor": 2
}
